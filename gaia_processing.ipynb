{
 "cells": [
  {
   "cell_type": "code",
   "execution_count": null,
   "id": "65dfd7b6-a7a7-4ac1-991e-47901a774feb",
   "metadata": {},
   "outputs": [],
   "source": [
    "from astroquery.gaia import Gaia\n",
    "import matplotlib.pyplot as plt\n",
    "import numpy as np\n",
    "import os\n",
    "from os import path\n",
    "from pathlib import Path\n",
    "import pandas as pd\n",
    "import pickle\n",
    "import seaborn as sns\n",
    "import shutil\n",
    "import time\n",
    "\n",
    "from graphs.mixture_fit import best_fit_mixture\n",
    "from models.gaussian_mixture import remove_outliers, gaussian_mixture\n",
    "from preprocessing.exoplanets_gaia_crossmatch import gaia_exoplanets_cross, transform_to_cart\n",
    "from preprocessing.download_gaia import GaiaDataset\n",
    "from preprocessing.calc_density import get_densities"
   ]
  },
  {
   "cell_type": "markdown",
   "id": "0bfb48bf-fec4-4558-bbcf-ab9ddf35517e",
   "metadata": {},
   "source": [
    "## Create folder structure"
   ]
  },
  {
   "cell_type": "code",
   "execution_count": null,
   "id": "e6ff7cc8-3851-43b9-84f7-5ec734bb7db1",
   "metadata": {},
   "outputs": [],
   "source": [
    "crossmatch_dir = \"data/crossmatch/dr3\"\n",
    "densities_dir = \"data/densities/dr3\"\n",
    "classification_dir = \"data/classification/dr3\"\n",
    "datasets_dir = \"data/initial_datasets\""
   ]
  },
  {
   "cell_type": "markdown",
   "id": "177568de-29b9-415e-b39c-4ebee6ae08f7",
   "metadata": {},
   "source": [
    "# 1. Login"
   ]
  },
  {
   "cell_type": "markdown",
   "id": "f9c42fa5-2c45-487a-83a0-aefeb50d1f38",
   "metadata": {
    "tags": []
   },
   "source": [
    "#### First let's login to Gaia archive. We can use the following formats:\n",
    "#### Gaia.login_gui() - will display window to provide a username and password\n",
    "#### Gaia.login() - a prompt will ask the user for name and password\n",
    "#### Gaia.login(user=[username], password=[password]) - just type the username and password in the given fields\n",
    "#### Gaia.login(credentials_file=[filename] - A path to the file that contains username and password. The username and password must be in different lines!"
   ]
  },
  {
   "cell_type": "code",
   "execution_count": null,
   "id": "2470f475-2488-4a21-a6c7-87e733b10184",
   "metadata": {},
   "outputs": [],
   "source": [
    "Gaia.login()"
   ]
  },
  {
   "cell_type": "markdown",
   "id": "0952842c-21d8-4233-a1a3-d076b7759f70",
   "metadata": {},
   "source": [
    "# 2. Prepare Exoplanets data for crossmatching query.\n",
    "### Remove any targets that do not have GAIA ID. Extract numerical value of GAIA ID and save it as integer. Remove duplicates so that we end up with a single instance of each host star."
   ]
  },
  {
   "cell_type": "code",
   "execution_count": null,
   "id": "621493f1-1394-4c40-9775-438ace9e40a2",
   "metadata": {},
   "outputs": [],
   "source": [
    "df = pd.read_csv(\"data/initial_datasets/PSCompPars_2022.11.10_06.54.37.csv\", skiprows=9)\n",
    "df.dropna(subset=[\"gaia_id\"], inplace=True)\n",
    "df[\"source_id\"] = df[\"gaia_id\"].str.rsplit(\" \", n=1, expand=True)[1].dropna().astype(\"int64\")\n",
    "df[\"Host\"] = df[\"hostname\"].str.replace(\" \", \"\")\n",
    "df.drop_duplicates(subset=[\"Host\"], inplace=True)\n",
    "df.drop([\"gaia_id\", \"hostname\"], axis=1, inplace=True)\n",
    "df.to_csv(\"data/initial_datasets/NASA_ex_cleaned.csv\", index=False)"
   ]
  },
  {
   "cell_type": "markdown",
   "id": "c9b067ef-f036-45c7-863f-975b3cf318a5",
   "metadata": {},
   "source": [
    "# 3. Upload table with Gaia ID's from NASA Exoplanets Archive\n",
    "### Can be done on the Gaia archive website using GUI. Cannot upload the same table twice unless we change the name as they are unique."
   ]
  },
  {
   "cell_type": "code",
   "execution_count": null,
   "id": "20d98165-689b-43b8-bb17-12888e7b2a4c",
   "metadata": {
    "tags": []
   },
   "outputs": [],
   "source": [
    "#job = Gaia.delete_user_table(\"exoplanets\")\n",
    "Gaia.upload_table(upload_resource=\"data/initial_datasets/NASA_ex_cleaned.csv\", table_name=\"exoplanets\", format=\"CSV\")"
   ]
  },
  {
   "cell_type": "markdown",
   "id": "5e13d7ac-e4e9-4b24-a905-acc02466a70f",
   "metadata": {
    "tags": []
   },
   "source": [
    "# 4. Submit crossmatch query"
   ]
  },
  {
   "cell_type": "markdown",
   "id": "e0bbe165-09d2-4865-8a39-8ee9aa09b7f8",
   "metadata": {},
   "source": [
    "##### Provide gaia table name to query as well as your username that will be used to load the uploaded table.\n",
    "##### Set a name for the file to which queried data will be saved."
   ]
  },
  {
   "cell_type": "code",
   "execution_count": null,
   "id": "0d0defc3-f50e-4601-b64e-36ec5eabae8e",
   "metadata": {},
   "outputs": [],
   "source": [
    "table = \"gaiadr3.dr2_neighbourhood\"\n",
    "username = \"mmotylin\"\n",
    "filename = \"exoplanets_query.csv\""
   ]
  },
  {
   "cell_type": "code",
   "execution_count": null,
   "id": "964a8fd3-66aa-400e-9782-6e78a72cf74a",
   "metadata": {},
   "outputs": [],
   "source": [
    "query = f\"\"\"\n",
    "SELECT exoplanets.*, both_names.dr2_source_id, both_names.dr3_source_id\n",
    "FROM user_{username}.exoplanets AS exoplanets\n",
    "JOIN {table} as both_names \n",
    "    ON both_names.dr2_source_id = exoplanets.source_id\n",
    "WHERE ABS(magnitude_difference) < 0.1\n",
    "\"\"\""
   ]
  },
  {
   "cell_type": "code",
   "execution_count": null,
   "id": "d601e9ad-8de8-4feb-8e2a-be44af16df41",
   "metadata": {},
   "outputs": [],
   "source": [
    "Gaia.launch_job_async(query).get_results().to_pandas().to_csv(f\"data/initial_datasets/{filename}\", index=False)"
   ]
  },
  {
   "cell_type": "markdown",
   "id": "13651ad3-4734-46cb-af2d-ae35d02583d6",
   "metadata": {},
   "source": [
    "# 5. Clean up after query."
   ]
  },
  {
   "cell_type": "code",
   "execution_count": null,
   "id": "33ae6a95-4d7a-4501-9451-ecacdd238136",
   "metadata": {},
   "outputs": [],
   "source": [
    "df1 = pd.read_csv(f\"data/initial_datasets/{filename}\")\n",
    "df1[\"source_id\"] = df1[\"dr3_source_id\"]\n",
    "df1 = df1[[\"pl_name\", \"source_id\", \"host\"]]\n",
    "df1.to_csv(\"data/initial_datasets/exoplanets.csv\", index=False)"
   ]
  },
  {
   "cell_type": "markdown",
   "id": "7a0e4697-7f3e-4a92-9518-fe37cc9e93b1",
   "metadata": {},
   "source": [
    "# 6. Crossmatch NASA Exoplanet dataset with Gaia dataset"
   ]
  },
  {
   "cell_type": "code",
   "execution_count": null,
   "id": "e6e9fba9-5c91-487d-a908-27725ed86ebb",
   "metadata": {},
   "outputs": [],
   "source": [
    "def exoplanet_gaia_crossmatch(crossmatch_dir, transform_type=\"6d\", table_name=\"gaiadr3\", columns=[\"pl_name\", \"hostname\", \"gaia_id\"], save_gaia_id=True, save_spherical=True):\n",
    "    \"\"\"\n",
    "    :param: transform_type: Type of coordinates transformation to perform on the data (6d, 5d_drop_vx, 5d_drop_vy or 5d_drop_vz).\n",
    "    :param: table_name: Name of the Gaia dataset to use.\n",
    "    :param: save_spherical: Save spherical values to a CSV file. When looping it is adviced to apply only once to save time. \n",
    "    \n",
    "    :return: Density values for 1065 exoplanets and their neighbours, Winter-Gaia-NASA exoplanet archive crossmatch\n",
    "    table containing 6D coordinates only and Winter-Gaia-NASA exoplanet archive crossmatch table with data from all 3\n",
    "    sources combined.\n",
    "    \"\"\"\n",
    "\n",
    "    # Cross match datasets and generate new ones.\n",
    "    gaia = gaia_exoplanets_cross(f\"{table_name}.csv\", crossmatch_dir, columns, save_gaia_id=True, return_data=True, save_spherical=save_spherical)\n",
    "    transform_to_cart(gaia, table_name, crossmatch_dir, setting=transform_type)"
   ]
  },
  {
   "cell_type": "code",
   "execution_count": null,
   "id": "071e36ad-af3a-48b9-9f71-94b54f670e2e",
   "metadata": {},
   "outputs": [],
   "source": [
    "columns = [\"pl_name\", \"host\", \"gaia_id\"]"
   ]
  },
  {
   "cell_type": "code",
   "execution_count": null,
   "id": "3da03d62-13d3-4705-8f78-1e0ad8a9a021",
   "metadata": {
    "tags": []
   },
   "outputs": [],
   "source": [
    "exoplanet_gaia_crossmatch(crossmatch_dir, transform_type=\"6d\", columns=columns, save_gaia_id=True, save_spherical=True)\n",
    "exoplanet_gaia_crossmatch(crossmatch_dir, transform_type=\"5d_drop_rv\", columns=columns, save_gaia_id=False, save_spherical=False)"
   ]
  },
  {
   "cell_type": "markdown",
   "id": "9bd4b916-ad8c-420a-96ed-1a879d7002c6",
   "metadata": {},
   "source": [
    "# 7. Calculate phase space density for neighbours of exoplanet hosts"
   ]
  },
  {
   "cell_type": "code",
   "execution_count": null,
   "id": "3c4646a6-9e7c-4e9f-b5be-3a0851ff556e",
   "metadata": {},
   "outputs": [],
   "source": [
    "def calculate_densities(star_labels_filename, dataset_filename, crossmatch_dir, densities_dir, exoplanets_only=True, start=0, stop=100000, step=1, run_on_gpu=False):\n",
    "    \"\"\"\n",
    "    Calculate phase space density for given set of stars.\n",
    "    \n",
    "    :param: star_labels_filename: Name of the file containing star labels.\n",
    "    :param: dataset_filename: Name of the file containing coordinates of the stars.\n",
    "    :param: exoplanets_only: Compute density only for a list of exoplanets (~1000).\n",
    "    :param: n_stars: Numeber of stars to calculate density for.\n",
    "    :param: run_on_gpu: Use GPU accelerated pipeline.\n",
    "    \"\"\"\n",
    "    \n",
    "    labels_file = pd.read_csv(os.path.join(crossmatch_dir, star_labels_filename), dtype={\"source_id\": str, \"host\": str})\n",
    "    gaia = pd.read_csv(os.path.join(crossmatch_dir, dataset_filename))\n",
    "                \n",
    "    if gaia.shape[1] == 6:\n",
    "        name = dataset_filename.split(\"_\")[0] + f\"_{dataset_filename[-6:-4]}\"\n",
    "    else:\n",
    "        name = dataset_filename.split(\"_\")[0] + f\"_{dataset_filename[-14:-4]}\"\n",
    "\n",
    "    if exoplanets_only:\n",
    "        labels = labels_file[\"host\"].dropna()\n",
    "        start = 0\n",
    "        stop = labels.shape[0]\n",
    "        step = 1\n",
    "        name = name + \"_only-\" + dataset_filename.split(\"_\")[1] + \"s\"\n",
    "    else:\n",
    "        labels = labels_file[\"source_id\"]\n",
    "        name = name + f\"_{str(start)}_{str(stop)}\"\n",
    "\n",
    "\n",
    "    densities, dropped = get_densities(labels.to_numpy(), gaia.to_numpy(), start=start, stop=stop, step=step, run_on_gpu=run_on_gpu)\n",
    "    \n",
    "    with open(f\"{densities_dir}/densities_{name}.data\", \"wb\") as f:\n",
    "        pickle.dump(densities, f)\n",
    "    with open(f\"{densities_dir}/dropped_densities_{name}.data\", \"wb\") as f:\n",
    "        pickle.dump(dropped, f)"
   ]
  },
  {
   "cell_type": "code",
   "execution_count": null,
   "id": "ae354bc8-1cf0-4dda-850a-35c9ce28c24a",
   "metadata": {
    "tags": []
   },
   "outputs": [],
   "source": [
    "for fname in os.listdir(crossmatch_dir):\n",
    "    if \"cartesian\" in fname:\n",
    "        print(fname)\n",
    "        start = time.perf_counter()\n",
    "        calculate_densities(\"gaiadr3_star_labels.csv\", fname, crossmatch_dir, densities_dir, exoplanets_only=True, run_on_gpu=True)\n",
    "        end = time.perf_counter()\n",
    "        print(f\"{fname} completed in: {str(end-start)}\")\n"
   ]
  },
  {
   "cell_type": "markdown",
   "id": "62e9423d-f2b3-42a6-aae2-48818dd17fb4",
   "metadata": {},
   "source": [
    "# 8. Fit gaussian mixture model to predict if target star belongs to overdensity or underdensity group. Return scores and attributes of the model."
   ]
  },
  {
   "cell_type": "code",
   "execution_count": null,
   "id": "f04685ab-3c02-4e6e-bca3-646094d24ee3",
   "metadata": {},
   "outputs": [],
   "source": [
    "def labels(row):\n",
    "    if row[\"gm_p_low\"] >= 0.84:\n",
    "        return \"0\"\n",
    "    elif row[\"gm_p_high\"] >= 0.84:\n",
    "        return \"2\"\n",
    "    else:\n",
    "        return \"1\""
   ]
  },
  {
   "cell_type": "code",
   "execution_count": null,
   "id": "facf150f-5666-4906-b35d-6222ae7d4844",
   "metadata": {},
   "outputs": [],
   "source": [
    "import numpy as np\n",
    "import math\n",
    "from sklearn.mixture import GaussianMixture\n",
    "import matplotlib.pyplot as plt\n",
    "from scipy.stats import kstest\n",
    "from scipy import stats\n",
    "from math import exp"
   ]
  },
  {
   "cell_type": "code",
   "execution_count": null,
   "id": "ba9d2628-900c-4c72-85ce-a7e9e3bf98b2",
   "metadata": {},
   "outputs": [],
   "source": [
    "def fit_gaussian_mixture(file_name, classification_dir, densities_dir, show_graph=False, save_graph=False):\n",
    "    if \"5d\" in file_name:\n",
    "        data_type = \"5d\"\n",
    "    else:\n",
    "        data_type = \"6d\"\n",
    "    sigma = 2\n",
    "    fig_dir=None\n",
    "    file_name = file_name.split(\".\")[0]\n",
    "    if save_graph:  \n",
    "        if os.path.isdir(f\"figures/{file_name}\"):\n",
    "            shutil.rmtree(f\"figures/{file_name}\")\n",
    "        fig_dir = file_name\n",
    "        \n",
    "        os.mkdir(f\"figures/{fig_dir}\")\n",
    "    \n",
    "    with open(f\"{densities_dir}/{file_name}.data\", \"rb\") as f:\n",
    "        densities = pickle.load(f)\n",
    "    results = []\n",
    "        \n",
    "    for i in densities:\n",
    "        # Compute log10 of the host density and expand dimensions for further use\n",
    "        target = np.expand_dims(np.log10(i[1]), axis=0).T\n",
    "\n",
    "        # Remove outliers outside sigma\n",
    "        data = remove_outliers(i[4], sigma=sigma)\n",
    "        \n",
    "        mean = np.mean(data)\n",
    "        std = np.std(data)\n",
    "        st, pnull = kstest(data.reshape(-1, ), 'norm', args=(mean, std))\n",
    "        \n",
    "        if pnull < 0.05:\n",
    "            # Apply gaussian mixture model to the data\n",
    "            model, scores = gaussian_mixture(data, [target], components=2, scores_only=False)\n",
    "\n",
    "            # Create list consisting of star name and its density for graph drawing\n",
    "            scores.insert(0, pnull)\n",
    "            scores.insert(0, target[0])\n",
    "            scores.insert(0, np.log10(i[4].min()))\n",
    "            scores.insert(0, np.log10(i[4].max()))\n",
    "            scores.insert(0, np.log10(i[4].std()))\n",
    "            scores.insert(0, np.log10(i[4].mean()))\n",
    "            scores.insert(0, i[3])\n",
    "            scores.insert(0, i[2])\n",
    "            scores.insert(0, i[0])\n",
    "            results.append(scores)\n",
    "\n",
    "            # Draw best fit mixture\n",
    "            if type(i[0]) != str:\n",
    "                host = [f\"{i[0]:.0f}\", target]\n",
    "            else:\n",
    "                host = [i[0], target]\n",
    "                \n",
    "            if show_graph or save_graph:\n",
    "                best_fit_mixture(model, data, host, results[-1][9], pnull, fig_dir, show_graph, save_graph)\n",
    "    df = pd.DataFrame(results, columns=[\"Host\", \"n_40pc_stars\", \"n_80pc_stars\", \"densities_mean\", \"densities_std\", \n",
    "                                        \"densities_max\", \"densities_min\", \"target_density\", \"gm_p_null\", \"gm_p_low\", \n",
    "                                        \"gm_p_high\", \"gm_mean_low\", \"gm_mean_high\", \"gm_cov_low\", \"gm_cov_high\", \n",
    "                                        \"gm_aic\", \"gm_bic\"])\n",
    "    df[\"class\"] = df.apply(lambda row: labels(row), axis=1)\n",
    "    \n",
    "    df.to_csv(f\"{classification_dir}/features_{file_name}.csv\")"
   ]
  },
  {
   "cell_type": "code",
   "execution_count": null,
   "id": "16539f98-48df-4982-9293-8ddb5cf6ece0",
   "metadata": {
    "tags": []
   },
   "outputs": [],
   "source": [
    "features = os.listdir(classification_dir)\n",
    "for fname in os.listdir(densities_dir):\n",
    "    for i in features:\n",
    "        if fname.split(\".\")[0] in i:\n",
    "            continue\n",
    "    if \"dropped\" in fname:\n",
    "        continue\n",
    "    fit_gaussian_mixture(fname, classification_dir, densities_dir, show_graph=False, save_graph=True)"
   ]
  },
  {
   "cell_type": "markdown",
   "id": "2fa75a8f-92a9-4970-9c83-d9b1e3f3e86d",
   "metadata": {},
   "source": [
    "# Old ks tests"
   ]
  },
  {
   "cell_type": "markdown",
   "id": "1cf049d5-d5d7-4950-aeeb-2ba012a74f43",
   "metadata": {},
   "source": [
    "# displaying densities against normal distribution"
   ]
  },
  {
   "cell_type": "code",
   "execution_count": null,
   "id": "694138e9-315a-4ee7-b8a9-1fc69b131a58",
   "metadata": {},
   "outputs": [],
   "source": [
    "def fit_gaussian_mixture(file_name, classification_dir, densities_dir, show_graph=False, save_graph=False):\n",
    "    if \"5d\" in file_name:\n",
    "        data_type = \"5d\"\n",
    "    else:\n",
    "        data_type = \"6d\"\n",
    "    sigma = 2\n",
    "    fig_dir=None\n",
    "    file_name = file_name.split(\".\")[0]\n",
    "    if save_graph:  \n",
    "        if os.path.isdir(f\"figures/{file_name}\"):\n",
    "            shutil.rmtree(f\"figures/{file_name}\")\n",
    "        fig_dir = file_name\n",
    "    \n",
    "        os.mkdir(f\"figures/{fig_dir}\")\n",
    "    \n",
    "    with open(f\"{densities_dir}/{file_name}.data\", \"rb\") as f:\n",
    "        densities = pickle.load(f)\n",
    "    results = []\n",
    "    l = 0\n",
    "    k = 0\n",
    "    arr = []\n",
    "    for i in densities:\n",
    "        # Compute log10 of the host density and expand dimensions for further use\n",
    "        target = np.expand_dims(np.log10(i[1]), axis=0).T\n",
    "\n",
    "        # Remove outliers outside sigma\n",
    "        data = remove_outliers(i[4], sigma=sigma)\n",
    "        \n",
    "        mean = np.mean(data)\n",
    "        std = np.std(data)\n",
    "        \n",
    "        x = np.random.normal(mean, std, data.reshape(-1, ).shape[0])\n",
    "        \n",
    "        st, p_null = kstest(data.reshape(-1, ), 'norm', args=(mean, std))\n",
    "        \n",
    "        if p_null > 0.05:\n",
    "            print(test_stat)\n",
    "            fig = plt.figure(figsize=(50, 5), facecolor=\"w\")\n",
    "            fig.subplots_adjust(left=0.12, right=0.97, bottom=0.21, top=0.9, wspace=0.5)\n",
    "            ax = fig.add_subplot(131)\n",
    "            ax.hist(data.reshape(-1, ), 30, density=True, histtype=\"stepfilled\", alpha=0.5)\n",
    "            ax.hist(x, 30, density=True, histtype=\"stepfilled\", alpha=0.5, color=\"g\")\n",
    "            plt.show()\n",
    "            plt.close()"
   ]
  },
  {
   "cell_type": "markdown",
   "id": "89d8b771-ebd9-4ce5-99c9-90ad6d4983a3",
   "metadata": {},
   "source": [
    "### with probability density function"
   ]
  },
  {
   "cell_type": "code",
   "execution_count": null,
   "id": "d1231fba-d439-4ff4-890a-5a6aaa1bc8e2",
   "metadata": {},
   "outputs": [],
   "source": [
    "def fit_gaussian_mixture(file_name, classification_dir, densities_dir, show_graph=False, save_graph=False):\n",
    "\n",
    "    sigma = 2\n",
    "    fig_dir=None\n",
    "    file_name = file_name.split(\".\")[0]\n",
    "    if save_graph:  \n",
    "        if os.path.isdir(f\"figures/{file_name}\"):\n",
    "            shutil.rmtree(f\"figures/{file_name}\")\n",
    "        fig_dir = file_name\n",
    "    \n",
    "        os.mkdir(f\"figures/{fig_dir}\")\n",
    "    \n",
    "    with open(f\"{densities_dir}/{file_name}.data\", \"rb\") as f:\n",
    "        densities = pickle.load(f)\n",
    "    results = []\n",
    "    l = 0\n",
    "    k = 0\n",
    "    arr = []\n",
    "\n",
    "    for i in densities:\n",
    "        # Compute log10 of the host density and expand dimensions for further use\n",
    "        target = np.expand_dims(np.log10(i[1]), axis=0).T\n",
    "\n",
    "        # Remove outliers outside sigma\n",
    "        data = remove_outliers(i[4], sigma=sigma)\n",
    "        \n",
    "        model = GaussianMixture(n_components=1, max_iter=1000).fit(data)\n",
    "        print(model.predict_proba(np.array([target])))\n",
    "        print(\"means\", model.means_, \"covariances\", model.covariances_)\n",
    "        x = np.linspace(math.floor(data.min()), math.ceil(data.max()), data.shape[0])\n",
    "        logprob = model.score_samples(x.reshape(-1, 1))\n",
    "        pdf = np.exp(logprob)\n",
    "        \n",
    "        print(\"pdf range\", pdf.min(), pdf.max())\n",
    "        \n",
    "        \n",
    "        \n",
    "        cdf = norm.cdf(data)\n",
    "        print(\"cdf\", cdf)\n",
    "        \n",
    "        params = model.get_params()\n",
    "        print(\"params\", params)\n",
    "        \n",
    "        #pval = \n",
    "        print(\"Densities range: \", data.min(), data.max())\n",
    "        print(\"Densities: \", data, \"linspace\", x, \"\\n Logprob: \", logprob, \"\\n PDF: \", pdf)\n",
    "        #test_stat = kstest(np.array([target]).reshape(-1, ), pdf)\n",
    "        test_stat = ks_2samp(cdf.reshape(-1, ), data.reshape(-1, ))\n",
    "        print(test_stat)\n",
    "        #test_stat0 = kstest(np.exp(np.array([target])).reshape(-1, ), pdf)\n",
    "        #test_stat1 = kstest(np.array([target]).reshape(-1, ), data.reshape(-1, ))\n",
    "        fig = plt.figure(figsize=(50, 5), facecolor=\"w\")\n",
    "        fig.subplots_adjust(left=0.12, right=0.97, bottom=0.21, top=0.9, wspace=0.5)\n",
    "        ax = fig.add_subplot(131)\n",
    "        ax.plot(x, pdf)\n",
    "        #ax.hist(cdf.reshape(-1, ), 30, density=True, histtype=\"stepfilled\", alpha=0.9)\n",
    "        ax.hist(data.reshape(-1, ), 30, density=True, histtype=\"stepfilled\", alpha=0.5)\n",
    "        plt.show()\n",
    "        plt.close()\n",
    "        \"\"\"if test_stat[1] < 0.05:\n",
    "            l += 1\n",
    "            arr.append((i[0], test_stat[1]))\n",
    "            fig_dir = \"Singlefit<0.05\"\n",
    "            plt.plot(pdf)\n",
    "            plt.axhline(y=target, color=\"r\", xmax=1)\n",
    "            if save_graph:\n",
    "                j = 0\n",
    "                while os.path.exists(f\"figures/{fig_dir}/{i[0]}_{j}.png\"):\n",
    "                    j += 1\n",
    "                plt.savefig(f\"figures/{fig_dir}/{i[0]}_{j}.png\", dpi=100, bbox_inches=\"tight\", pad_inches=0.1)\n",
    "            #plt.show()\n",
    "            plt.close()\n",
    "            \n",
    "        else:\n",
    "            k += 1\n",
    "            fig_dir = \"Singlefit>0.05\"\n",
    "            #print(i[0], target, test_stat[1])\n",
    "            plt.plot(pdf)\n",
    "            plt.axhline(y=target, color=\"r\", xmax=1)\n",
    "            if save_graph:\n",
    "                j = 0\n",
    "                while os.path.exists(f\"figures/{fig_dir}/{i[0]}_{j}.png\"):\n",
    "                    j += 1\n",
    "                plt.savefig(f\"figures/{fig_dir}/{i[0]}_{j}.png\", dpi=100, bbox_inches=\"tight\", pad_inches=0.1)\n",
    "            #plt.show()\n",
    "            plt.close()\"\"\"\n",
    "        \n",
    "        \n",
    "        # Apply gaussian mixture model to the data\n",
    "        model, scores = gaussian_mixture(data, [target], components=2, scores_only=False)\n",
    "        #if test_stat[1] > 0.05:\n",
    "            #print(\"scores\", scores)\n",
    "            #print(\"ks\", test_stat[1])\n",
    "            #continue\n",
    "        # Create list consisting of star name and its density for graph drawing\n",
    "        scores.insert(0, target[0])\n",
    "        scores.insert(0, np.log10(i[4].min()))\n",
    "        scores.insert(0, np.log10(i[4].max()))\n",
    "        scores.insert(0, np.log10(i[4].std()))\n",
    "        scores.insert(0, np.log10(i[4].mean()))\n",
    "        scores.insert(0, i[3])\n",
    "        scores.insert(0, i[2])\n",
    "        scores.insert(0, i[0])\n",
    "        \n",
    "        results.append(scores)\n",
    "        \n",
    "        # Draw best fit mixture\n",
    "        if type(i[0]) != str:\n",
    "            host = [f\"{i[0]:.0f}\", target]\n",
    "        else:\n",
    "            host = [i[0], target]\n",
    "        \n",
    "        if show_graph or save_graph:\n",
    "            best_fit_mixture(model, data, host, results[densities.index(i)][9], fig_dir, show_graph, save_graph)\n",
    "        if l > 1:\n",
    "             break\n",
    "    return l, k, arr\n",
    "    df = pd.DataFrame(results, columns=[\"Host\", \"n_40pc_stars\", \"n_80pc_stars\", \"densities_mean\", \"densities_std\", \n",
    "                                        \"densities_max\", \"densities_min\", \"target_density\", \"gm_p_low\", \"gm_p_high\",\n",
    "                                        \"gm_mean_low\", \"gm_mean_high\", \"gm_cov_low\", \"gm_cov_high\", \"gm_aic\", \"gm_bic\"])\n",
    "    df[\"class\"] = df.apply(lambda row: labels(row), axis=1)\n",
    "    \n",
    "    df.to_csv(f\"{classification_dir}/features_{file_name}.csv\")"
   ]
  }
 ],
 "metadata": {
  "kernelspec": {
   "display_name": "Python 3 (ipykernel)",
   "language": "python",
   "name": "python3"
  },
  "language_info": {
   "codemirror_mode": {
    "name": "ipython",
    "version": 3
   },
   "file_extension": ".py",
   "mimetype": "text/x-python",
   "name": "python",
   "nbconvert_exporter": "python",
   "pygments_lexer": "ipython3",
   "version": "3.9.7"
  }
 },
 "nbformat": 4,
 "nbformat_minor": 5
}
