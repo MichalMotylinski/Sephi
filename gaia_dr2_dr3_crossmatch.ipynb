{
 "cells": [
  {
   "cell_type": "code",
   "execution_count": 1,
   "id": "df3fedc2-1dad-49a9-8ab2-fd1f38f9336c",
   "metadata": {},
   "outputs": [],
   "source": [
    "from astroquery.gaia import Gaia"
   ]
  },
  {
   "cell_type": "code",
   "execution_count": null,
   "id": "37e1c773-cdcd-4906-8572-c22511b745bb",
   "metadata": {},
   "outputs": [],
   "source": [
    "\"gaia_source_ids_2022_10_20_all_cols.csv\""
   ]
  },
  {
   "cell_type": "markdown",
   "id": "40120adc-d45c-4da4-aaaa-34eb20f0317b",
   "metadata": {},
   "source": [
    "# Login"
   ]
  },
  {
   "cell_type": "markdown",
   "id": "6a9829fa-2b9b-4b44-a7bf-9ac18da7f0ec",
   "metadata": {},
   "source": [
    "#### First let's login to Gaia archive. We can use the following formats:\n",
    "#### Gaia.login_gui() - will display window to provide a username and password\n",
    "#### Gaia.login() - a prompt will ask the user for name and password\n",
    "#### Gaia.login(user=[username], password=[password]) - just type the username and password in the given fields\n",
    "#### Gaia.login(credentials_file=[filename] - A path to the file that contains username and password. The username and password must be in different lines!"
   ]
  },
  {
   "cell_type": "code",
   "execution_count": 3,
   "id": "aacae472-92af-4cef-94dc-dd334ef8f2fc",
   "metadata": {},
   "outputs": [
    {
     "name": "stdout",
     "output_type": "stream",
     "text": [
      "INFO: Login to gaia TAP server [astroquery.gaia.core]\n"
     ]
    },
    {
     "name": "stdin",
     "output_type": "stream",
     "text": [
      "User:  mmotylin\n",
      "Password:  ················\n"
     ]
    },
    {
     "name": "stdout",
     "output_type": "stream",
     "text": [
      "OK\n",
      "INFO: Login to gaia data server [astroquery.gaia.core]\n",
      "OK\n"
     ]
    }
   ],
   "source": [
    "Gaia.login()"
   ]
  },
  {
   "cell_type": "markdown",
   "id": "e766fd07-6edf-4f88-8e18-8145a51785ad",
   "metadata": {},
   "source": [
    "# Upload table with Gaia ID's from NASA Exoplanets Archive\n",
    "### Can be done on the Gaia archive website using GUI. Cannot upload the same table twice unless we change the name as they are unique."
   ]
  },
  {
   "cell_type": "code",
   "execution_count": 4,
   "id": "2104578c-1ad5-4124-b512-5e889bb4b904",
   "metadata": {},
   "outputs": [
    {
     "name": "stdout",
     "output_type": "stream",
     "text": [
      "Sending file: data/initial_datasets/gaia_source_ids_2022_10_20_all_cols.csv\n",
      "500 Error 500:\n",
      "esavo.tap.TAPException: Error while uploading table \"gaia_source_ids_2022_10_20_all_cols\" : Can not execute the following SQL: \n",
      "CREATE TABLE user_mmotylin.gaia_source_ids_2022_10_20_all_cols ( \"gaia_source_id\" BIGINT,  gaia_source_ids_2022_10_20_all_cols_oid SERIAL ) TABLESPACE gacs_netapp\n",
      "Because: ERROR: relation \"gaia_source_ids_2022_10_20_all_cols\" already exists\n"
     ]
    },
    {
     "ename": "HTTPError",
     "evalue": "Error 500:\nesavo.tap.TAPException: Error while uploading table \"gaia_source_ids_2022_10_20_all_cols\" : Can not execute the following SQL: \nCREATE TABLE user_mmotylin.gaia_source_ids_2022_10_20_all_cols ( \"gaia_source_id\" BIGINT,  gaia_source_ids_2022_10_20_all_cols_oid SERIAL ) TABLESPACE gacs_netapp\nBecause: ERROR: relation \"gaia_source_ids_2022_10_20_all_cols\" already exists",
     "output_type": "error",
     "traceback": [
      "\u001b[0;31m---------------------------------------------------------------------------\u001b[0m",
      "\u001b[0;31mHTTPError\u001b[0m                                 Traceback (most recent call last)",
      "\u001b[0;32m/tmp/ipykernel_28633/559819363.py\u001b[0m in \u001b[0;36m<module>\u001b[0;34m\u001b[0m\n\u001b[0;32m----> 1\u001b[0;31m \u001b[0mGaia\u001b[0m\u001b[0;34m.\u001b[0m\u001b[0mupload_table\u001b[0m\u001b[0;34m(\u001b[0m\u001b[0mupload_resource\u001b[0m\u001b[0;34m=\u001b[0m\u001b[0;34m\"data/initial_datasets/gaia_source_ids_2022_10_20_all_cols.csv\"\u001b[0m\u001b[0;34m,\u001b[0m \u001b[0mtable_name\u001b[0m\u001b[0;34m=\u001b[0m\u001b[0;34m\"gaia_source_ids_2022_10_20_all_cols\"\u001b[0m\u001b[0;34m,\u001b[0m \u001b[0mformat\u001b[0m\u001b[0;34m=\u001b[0m\u001b[0;34m\"CSV\"\u001b[0m\u001b[0;34m)\u001b[0m\u001b[0;34m\u001b[0m\u001b[0;34m\u001b[0m\u001b[0m\n\u001b[0m",
      "\u001b[0;32m~/anaconda3/envs/Exoplanets/lib/python3.9/site-packages/astroquery/utils/tap/core.py\u001b[0m in \u001b[0;36mupload_table\u001b[0;34m(self, upload_resource, table_name, table_description, format, verbose)\u001b[0m\n\u001b[1;32m   1478\u001b[0m             \u001b[0mformat\u001b[0m \u001b[0;34m=\u001b[0m \u001b[0;34m\"votable\"\u001b[0m\u001b[0;34m\u001b[0m\u001b[0;34m\u001b[0m\u001b[0m\n\u001b[1;32m   1479\u001b[0m \u001b[0;34m\u001b[0m\u001b[0m\n\u001b[0;32m-> 1480\u001b[0;31m         response = self.__uploadTableMultipart(resource=upload_resource,\n\u001b[0m\u001b[1;32m   1481\u001b[0m                                                \u001b[0mtable_name\u001b[0m\u001b[0;34m=\u001b[0m\u001b[0mtable_name\u001b[0m\u001b[0;34m,\u001b[0m\u001b[0;34m\u001b[0m\u001b[0;34m\u001b[0m\u001b[0m\n\u001b[1;32m   1482\u001b[0m                                                \u001b[0mtable_description\u001b[0m\u001b[0;34m=\u001b[0m\u001b[0mdescription\u001b[0m\u001b[0;34m,\u001b[0m\u001b[0;34m\u001b[0m\u001b[0;34m\u001b[0m\u001b[0m\n",
      "\u001b[0;32m~/anaconda3/envs/Exoplanets/lib/python3.9/site-packages/astroquery/utils/tap/core.py\u001b[0m in \u001b[0;36m__uploadTableMultipart\u001b[0;34m(self, resource, table_name, table_description, resource_format, verbose)\u001b[0m\n\u001b[1;32m   1547\u001b[0m             \u001b[0mprint\u001b[0m\u001b[0;34m(\u001b[0m\u001b[0mresponse\u001b[0m\u001b[0;34m.\u001b[0m\u001b[0mgetheaders\u001b[0m\u001b[0;34m(\u001b[0m\u001b[0;34m)\u001b[0m\u001b[0;34m)\u001b[0m\u001b[0;34m\u001b[0m\u001b[0;34m\u001b[0m\u001b[0m\n\u001b[1;32m   1548\u001b[0m         \u001b[0;32mif\u001b[0m \u001b[0mresponse\u001b[0m\u001b[0;34m.\u001b[0m\u001b[0mstatus\u001b[0m \u001b[0;34m!=\u001b[0m \u001b[0;36m303\u001b[0m \u001b[0;32mand\u001b[0m \u001b[0mresponse\u001b[0m\u001b[0;34m.\u001b[0m\u001b[0mstatus\u001b[0m \u001b[0;34m!=\u001b[0m \u001b[0;36m302\u001b[0m\u001b[0;34m:\u001b[0m\u001b[0;34m\u001b[0m\u001b[0;34m\u001b[0m\u001b[0m\n\u001b[0;32m-> 1549\u001b[0;31m             connHandler.check_launch_response_status(response,\n\u001b[0m\u001b[1;32m   1550\u001b[0m                                                      \u001b[0mverbose\u001b[0m\u001b[0;34m,\u001b[0m\u001b[0;34m\u001b[0m\u001b[0;34m\u001b[0m\u001b[0m\n\u001b[1;32m   1551\u001b[0m                                                      200)\n",
      "\u001b[0;32m~/anaconda3/envs/Exoplanets/lib/python3.9/site-packages/astroquery/utils/tap/conn/tapconn.py\u001b[0m in \u001b[0;36mcheck_launch_response_status\u001b[0;34m(self, response, debug, expected_response_status, raise_exception)\u001b[0m\n\u001b[1;32m    658\u001b[0m             \u001b[0merrMsg\u001b[0m \u001b[0;34m=\u001b[0m \u001b[0mtaputils\u001b[0m\u001b[0;34m.\u001b[0m\u001b[0mget_http_response_error\u001b[0m\u001b[0;34m(\u001b[0m\u001b[0mresponse\u001b[0m\u001b[0;34m)\u001b[0m\u001b[0;34m\u001b[0m\u001b[0;34m\u001b[0m\u001b[0m\n\u001b[1;32m    659\u001b[0m             \u001b[0mprint\u001b[0m\u001b[0;34m(\u001b[0m\u001b[0mresponse\u001b[0m\u001b[0;34m.\u001b[0m\u001b[0mstatus\u001b[0m\u001b[0;34m,\u001b[0m \u001b[0merrMsg\u001b[0m\u001b[0;34m)\u001b[0m\u001b[0;34m\u001b[0m\u001b[0;34m\u001b[0m\u001b[0m\n\u001b[0;32m--> 660\u001b[0;31m             \u001b[0;32mraise\u001b[0m \u001b[0mrequests\u001b[0m\u001b[0;34m.\u001b[0m\u001b[0mexceptions\u001b[0m\u001b[0;34m.\u001b[0m\u001b[0mHTTPError\u001b[0m\u001b[0;34m(\u001b[0m\u001b[0merrMsg\u001b[0m\u001b[0;34m)\u001b[0m\u001b[0;34m\u001b[0m\u001b[0;34m\u001b[0m\u001b[0m\n\u001b[0m\u001b[1;32m    661\u001b[0m         \u001b[0;32melse\u001b[0m\u001b[0;34m:\u001b[0m\u001b[0;34m\u001b[0m\u001b[0;34m\u001b[0m\u001b[0m\n\u001b[1;32m    662\u001b[0m             \u001b[0;32mreturn\u001b[0m \u001b[0misError\u001b[0m\u001b[0;34m\u001b[0m\u001b[0;34m\u001b[0m\u001b[0m\n",
      "\u001b[0;31mHTTPError\u001b[0m: Error 500:\nesavo.tap.TAPException: Error while uploading table \"gaia_source_ids_2022_10_20_all_cols\" : Can not execute the following SQL: \nCREATE TABLE user_mmotylin.gaia_source_ids_2022_10_20_all_cols ( \"gaia_source_id\" BIGINT,  gaia_source_ids_2022_10_20_all_cols_oid SERIAL ) TABLESPACE gacs_netapp\nBecause: ERROR: relation \"gaia_source_ids_2022_10_20_all_cols\" already exists"
     ]
    }
   ],
   "source": [
    "Gaia.upload_table(upload_resource=\"data/initial_datasets/gaia_source_ids_2022_10_20_all_cols.csv\", table_name=\"gaia_source_ids_2022_10_20_all_cols\", format=\"CSV\")"
   ]
  },
  {
   "cell_type": "markdown",
   "id": "adf852ec-a6fc-4f89-9d71-f6a3fedb5c03",
   "metadata": {},
   "source": [
    "# Submit crossmatch query"
   ]
  },
  {
   "cell_type": "markdown",
   "id": "0f96f8c3-14e5-4e5d-b35f-b91f7166a8e2",
   "metadata": {},
   "source": [
    "##### Provide gaia table name to query as well as your username that will be used to load the uploaded table.\n",
    "##### Set a name for the file to which queried data will be saved."
   ]
  },
  {
   "cell_type": "code",
   "execution_count": 8,
   "id": "66261f6a-49bc-427a-a1b1-7351fc719486",
   "metadata": {},
   "outputs": [],
   "source": [
    "table = \"gaiadr3.dr2_neighbourhood\"\n",
    "username = \"mmotylin\"\n",
    "filename = \"gaiadr3.dr2_neighbourhood.csv\""
   ]
  },
  {
   "cell_type": "code",
   "execution_count": 13,
   "id": "2f4a11f5-7cba-4ffb-bd28-18eda479443c",
   "metadata": {},
   "outputs": [],
   "source": [
    "query = f\"\"\"\n",
    "SELECT dr2_names.*, both_names.*\n",
    "FROM user_{username}.gaia_source_ids_2022_10_20_all_cols AS dr2_names\n",
    "JOIN {table} as both_names \n",
    "    ON both_names.dr2_source_id = dr2_names.gaia_source_id\n",
    "WHERE ABS(magnitude_difference) < 0.1\n",
    "\"\"\""
   ]
  },
  {
   "cell_type": "code",
   "execution_count": 14,
   "id": "87386596-13af-4f95-9e6e-3bfb6571f9a3",
   "metadata": {},
   "outputs": [
    {
     "name": "stdout",
     "output_type": "stream",
     "text": [
      "INFO: Query finished. [astroquery.utils.tap.core]\n"
     ]
    }
   ],
   "source": [
    "Gaia.launch_job_async(query).get_results().to_pandas().to_csv(f\"data/initial_datasets/{filename}\", index=False)"
   ]
  },
  {
   "cell_type": "code",
   "execution_count": null,
   "id": "a0fad4a7-7253-4862-a3a2-d54ce6a0aaf7",
   "metadata": {},
   "outputs": [],
   "source": []
  }
 ],
 "metadata": {
  "kernelspec": {
   "display_name": "Python 3 (ipykernel)",
   "language": "python",
   "name": "python3"
  },
  "language_info": {
   "codemirror_mode": {
    "name": "ipython",
    "version": 3
   },
   "file_extension": ".py",
   "mimetype": "text/x-python",
   "name": "python",
   "nbconvert_exporter": "python",
   "pygments_lexer": "ipython3",
   "version": "3.9.7"
  }
 },
 "nbformat": 4,
 "nbformat_minor": 5
}
