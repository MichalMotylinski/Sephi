{
 "cells": [
  {
   "cell_type": "code",
   "execution_count": 1,
   "id": "df3fedc2-1dad-49a9-8ab2-fd1f38f9336c",
   "metadata": {},
   "outputs": [],
   "source": [
    "from astroquery.gaia import Gaia\n",
    "import pandas as pd"
   ]
  },
  {
   "cell_type": "markdown",
   "id": "40120adc-d45c-4da4-aaaa-34eb20f0317b",
   "metadata": {},
   "source": [
    "# Login"
   ]
  },
  {
   "cell_type": "markdown",
   "id": "6a9829fa-2b9b-4b44-a7bf-9ac18da7f0ec",
   "metadata": {
    "tags": []
   },
   "source": [
    "#### First let's login to Gaia archive. We can use the following formats:\n",
    "#### Gaia.login_gui() - will display window to provide a username and password\n",
    "#### Gaia.login() - a prompt will ask the user for name and password\n",
    "#### Gaia.login(user=[username], password=[password]) - just type the username and password in the given fields\n",
    "#### Gaia.login(credentials_file=[filename] - A path to the file that contains username and password. The username and password must be in different lines!"
   ]
  },
  {
   "cell_type": "code",
   "execution_count": 2,
   "id": "aacae472-92af-4cef-94dc-dd334ef8f2fc",
   "metadata": {},
   "outputs": [
    {
     "name": "stdout",
     "output_type": "stream",
     "text": [
      "INFO: Login to gaia TAP server [astroquery.gaia.core]\n"
     ]
    },
    {
     "name": "stdin",
     "output_type": "stream",
     "text": [
      "User:  mmotylin\n",
      "Password:  ················\n"
     ]
    },
    {
     "name": "stdout",
     "output_type": "stream",
     "text": [
      "OK\n",
      "INFO: Login to gaia data server [astroquery.gaia.core]\n",
      "OK\n"
     ]
    }
   ],
   "source": [
    "Gaia.login()"
   ]
  },
  {
   "cell_type": "markdown",
   "id": "d36b2bf2-ed59-4023-ba5c-97856c8a0edb",
   "metadata": {},
   "source": [
    "# Prepare Exoplanets data for crossmatching query.\n",
    "### Remove any targets that do not have GAIA ID. Extract numerical value of GAIA ID and save it as integer. Remove duplicates so that we end up with a single instance of each host star."
   ]
  },
  {
   "cell_type": "code",
   "execution_count": 37,
   "id": "e77dd910-5d3e-48c9-9d92-474d4cf806d0",
   "metadata": {},
   "outputs": [],
   "source": [
    "df = pd.read_csv(\"data/initial_datasets/PSCompPars_2022.11.10_06.54.37.csv\", skiprows=9)\n",
    "df.dropna(subset=[\"gaia_id\"], inplace=True)\n",
    "df[\"source_id\"] = df[\"gaia_id\"].str.rsplit(\" \", n=1, expand=True)[1].dropna().astype(\"int64\")\n",
    "df[\"Host\"] = df[\"hostname\"].str.replace(\" \", \"\")\n",
    "df.drop_duplicates(subset=[\"Host\"], inplace=True)\n",
    "df.drop([\"gaia_id\", \"hostname\"], axis=1, inplace=True)\n",
    "df.to_csv(\"data/initial_datasets/NASA_ex_cleaned.csv\", index=False)"
   ]
  },
  {
   "cell_type": "code",
   "execution_count": 38,
   "id": "a1175aea-3ee5-4638-88cc-74b0d46eeb51",
   "metadata": {},
   "outputs": [],
   "source": []
  },
  {
   "cell_type": "markdown",
   "id": "e766fd07-6edf-4f88-8e18-8145a51785ad",
   "metadata": {},
   "source": [
    "# Upload table with Gaia ID's from NASA Exoplanets Archive\n",
    "### Can be done on the Gaia archive website using GUI. Cannot upload the same table twice unless we change the name as they are unique."
   ]
  },
  {
   "cell_type": "code",
   "execution_count": 41,
   "id": "2104578c-1ad5-4124-b512-5e889bb4b904",
   "metadata": {
    "tags": []
   },
   "outputs": [
    {
     "name": "stdout",
     "output_type": "stream",
     "text": [
      "Sending file: data/initial_datasets/NASA_ex_cleaned.csv\n",
      "Uploaded table 'exoplanets'.\n"
     ]
    }
   ],
   "source": [
    "#job = Gaia.delete_user_table(\"exoplanets\")\n",
    "Gaia.upload_table(upload_resource=\"data/initial_datasets/NASA_ex_cleaned.csv\", table_name=\"exoplanets\", format=\"CSV\")"
   ]
  },
  {
   "cell_type": "markdown",
   "id": "adf852ec-a6fc-4f89-9d71-f6a3fedb5c03",
   "metadata": {},
   "source": [
    "# Submit crossmatch query"
   ]
  },
  {
   "cell_type": "markdown",
   "id": "0f96f8c3-14e5-4e5d-b35f-b91f7166a8e2",
   "metadata": {},
   "source": [
    "##### Provide gaia table name to query as well as your username that will be used to load the uploaded table.\n",
    "##### Set a name for the file to which queried data will be saved."
   ]
  },
  {
   "cell_type": "code",
   "execution_count": 42,
   "id": "66261f6a-49bc-427a-a1b1-7351fc719486",
   "metadata": {},
   "outputs": [],
   "source": [
    "table = \"gaiadr3.dr2_neighbourhood\"\n",
    "username = \"mmotylin\"\n",
    "filename = \"exoplanets_query.csv\""
   ]
  },
  {
   "cell_type": "code",
   "execution_count": 51,
   "id": "2f4a11f5-7cba-4ffb-bd28-18eda479443c",
   "metadata": {},
   "outputs": [],
   "source": [
    "query = f\"\"\"\n",
    "SELECT exoplanets.*, both_names.dr2_source_id, both_names.dr3_source_id\n",
    "FROM user_{username}.exoplanets AS exoplanets\n",
    "JOIN {table} as both_names \n",
    "    ON both_names.dr2_source_id = exoplanets.source_id\n",
    "WHERE ABS(magnitude_difference) < 0.1\n",
    "\"\"\""
   ]
  },
  {
   "cell_type": "code",
   "execution_count": 52,
   "id": "87386596-13af-4f95-9e6e-3bfb6571f9a3",
   "metadata": {},
   "outputs": [
    {
     "name": "stdout",
     "output_type": "stream",
     "text": [
      "INFO: Query finished. [astroquery.utils.tap.core]\n"
     ]
    }
   ],
   "source": [
    "Gaia.launch_job_async(query).get_results().to_pandas().to_csv(f\"data/initial_datasets/{filename}\", index=False)"
   ]
  },
  {
   "cell_type": "markdown",
   "id": "41d1d073-9541-4a2c-a621-d8c0e849658d",
   "metadata": {},
   "source": [
    "# Clean up after query."
   ]
  },
  {
   "cell_type": "code",
   "execution_count": 85,
   "id": "a0fad4a7-7253-4862-a3a2-d54ce6a0aaf7",
   "metadata": {},
   "outputs": [],
   "source": [
    "df1 = pd.read_csv(f\"data/initial_datasets/{filename}\")\n",
    "df1[\"source_id\"] = df1[\"dr3_source_id\"]\n",
    "df1 = df1[[\"pl_name\", \"source_id\", \"host\"]]\n",
    "df1.to_csv(\"data/initial_datasets/exoplanets.csv\", index=False)"
   ]
  }
 ],
 "metadata": {
  "kernelspec": {
   "display_name": "Python 3 (ipykernel)",
   "language": "python",
   "name": "python3"
  },
  "language_info": {
   "codemirror_mode": {
    "name": "ipython",
    "version": 3
   },
   "file_extension": ".py",
   "mimetype": "text/x-python",
   "name": "python",
   "nbconvert_exporter": "python",
   "pygments_lexer": "ipython3",
   "version": "3.9.7"
  }
 },
 "nbformat": 4,
 "nbformat_minor": 5
}
